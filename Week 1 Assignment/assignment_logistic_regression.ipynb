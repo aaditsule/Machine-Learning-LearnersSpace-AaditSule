{
  "nbformat": 4,
  "nbformat_minor": 0,
  "metadata": {
    "colab": {
      "provenance": []
    },
    "kernelspec": {
      "name": "python3",
      "display_name": "Python 3"
    },
    "language_info": {
      "name": "python"
    }
  },
  "cells": [
    {
      "cell_type": "markdown",
      "source": [
        "##ASSIGNMENT\n",
        "#Dataset\n",
        "Assume you are a scientist who is trying to make a propellent and is trying many tests to make an efficient propellent .\n",
        "<br>\n",
        "You have performed two tests.\n",
        "<br>\n",
        "From the two tests you would like whether this propellent works efficiently or not.\n",
        "Build your own logistic regression model to decide .\n",
        "<br>\n",
        "Text with \"DO NOT EDIT THIS CODE\" needs to be only run do not edit it\n"
      ],
      "metadata": {
        "id": "wNEUsAHHCGk2"
      }
    },
    {
      "cell_type": "code",
      "execution_count": null,
      "metadata": {
        "id": "xJm_XXJo4RDg"
      },
      "outputs": [],
      "source": [
        "#import libraries\n",
        "#write your code.\n",
        "\n",
        "\n"
      ]
    },
    {
      "cell_type": "code",
      "source": [
        "#load data\n",
        "\n",
        "#write your code\n",
        "\n",
        "\n"
      ],
      "metadata": {
        "id": "YtL0jW6m4e1A"
      },
      "execution_count": null,
      "outputs": []
    },
    {
      "cell_type": "code",
      "source": [
        "#plot data to visualise\n",
        "def plot_data(X,y,positive_label=\"y=1\", negative_label=\"y=0\"):\n",
        "#write your code\n",
        "\n",
        "\n"
      ],
      "metadata": {
        "id": "Bk2qYHyk4mNm"
      },
      "execution_count": null,
      "outputs": []
    },
    {
      "cell_type": "code",
      "source": [
        "#test\n",
        "plot_data(X_train, y_train[:], pos_label=\"Accepted\", neg_label=\"Rejected\")\n",
        "\n",
        "\n",
        "plt.xlabel('Test 2')\n",
        "plt.ylabel('Test 1')\n",
        "plt.legend(loc=\"upper right\")\n",
        "plt.show()\n"
      ],
      "metadata": {
        "id": "RzsMdrwv58tQ"
      },
      "execution_count": null,
      "outputs": []
    },
    {
      "cell_type": "code",
      "source": [
        "#feature mapping\n",
        "def map_feature(X1,X2):\n",
        "#write your code\n",
        "\n",
        "\n"
      ],
      "metadata": {
        "id": "KhRBdaFi6nKo"
      },
      "execution_count": null,
      "outputs": []
    },
    {
      "cell_type": "code",
      "source": [
        "print(\"Original shape of data:\", X_train.shape)\n",
        "\n",
        "mapped_X =  map_feature(X_train[:, 0], X_train[:, 1])\n",
        "print(\"Shape after feature mapping:\", mapped_X.shape)"
      ],
      "metadata": {
        "id": "PNS4kJfq6_m8"
      },
      "execution_count": null,
      "outputs": []
    },
    {
      "cell_type": "code",
      "source": [
        "# @title DO NOT EDIT THIS CODE\n",
        "def sigmoid_test(target):\n",
        "    assert np.isclose(target(3.0), 0.9525741268224334), \"Failed for scalar input\"\n",
        "    assert np.allclose(target(np.array([2.5, 0])), [0.92414182, 0.5]), \"Failed for 1D array\"\n",
        "    assert np.allclose(target(np.array([[2.5, -2.5], [0, 1]])),\n",
        "                       [[0.92414182, 0.07585818], [0.5, 0.73105858]]), \"Failed for 2D array\"\n",
        "    print('\\033[92mTests passed!')"
      ],
      "metadata": {
        "id": "BqlxZOXoHh4z",
        "cellView": "form"
      },
      "execution_count": null,
      "outputs": []
    },
    {
      "cell_type": "code",
      "source": [
        "#sigmoid function\n",
        "def sigmoid(z):\n",
        "#write your code\n",
        "\n",
        "\n"
      ],
      "metadata": {
        "id": "wdgE-ay07C0P"
      },
      "execution_count": null,
      "outputs": []
    },
    {
      "cell_type": "code",
      "source": [
        "sigmoid_test(sigmoid)\n"
      ],
      "metadata": {
        "id": "9XOlXXyxHnmB"
      },
      "execution_count": null,
      "outputs": []
    },
    {
      "cell_type": "code",
      "source": [
        "# @title DO NOT EDIT THIS CODE\n",
        "def compute_cost_test(target):\n",
        "    X = np.array([[0, 0, 0, 0]]).T\n",
        "    y = np.array([0, 0, 0, 0])\n",
        "    w = np.array([0])\n",
        "    b = 1\n",
        "    result = target(X, y, w, b)\n",
        "    if math.isinf(result):\n",
        "        raise ValueError(\"Did you get the sigmoid of z_wb?\")\n",
        "\n",
        "    np.random.seed(17)\n",
        "    X = np.random.randn(5, 2)\n",
        "    y = np.array([1, 0, 0, 1, 1])\n",
        "    w = np.random.randn(2)\n",
        "    b = 0\n",
        "    result = target(X, y, w, b)\n",
        "    assert np.isclose(result, 2.15510667), f\"Wrong output. Expected: {2.15510667} got: {result}\"\n",
        "\n",
        "    X = np.random.randn(4, 3)\n",
        "    y = np.array([1, 1, 0, 0])\n",
        "    w = np.random.randn(3)\n",
        "    b = 0\n",
        "\n",
        "    result = target(X, y, w, b)\n",
        "    assert np.isclose(result, 0.80709376), f\"Wrong output. Expected: {0.80709376} got: {result}\"\n",
        "\n",
        "    X = np.random.randn(4, 3)\n",
        "    y = np.array([1, 0,1, 0])\n",
        "    w = np.random.randn(3)\n",
        "    b = 3\n",
        "    result = target(X, y, w, b)\n",
        "    assert np.isclose(result, 0.4529660647), f\"Wrong output. Expected: {0.4529660647} got: {result}. Did you inizialized z_wb = b?\"\n",
        "\n",
        "    print('\\033[92mTests passed!')"
      ],
      "metadata": {
        "id": "QLqfyxPrH-v-",
        "cellView": "form"
      },
      "execution_count": null,
      "outputs": []
    },
    {
      "cell_type": "code",
      "source": [
        "#computing cost\n",
        "def compute_cost(X,y,w,b,lambda_=1):\n",
        "#write your code\n",
        "\n",
        "\n",
        "\n",
        "\n",
        "  return total_cost"
      ],
      "metadata": {
        "id": "PRIqcpJ17MzH"
      },
      "execution_count": null,
      "outputs": []
    },
    {
      "cell_type": "code",
      "source": [
        "test_w = np.array([0.2, 0.2])\n",
        "test_b = -24.\n",
        "cost = compute_cost(X_train, y_train, test_w, test_b)\n",
        "\n",
        "print('Cost at test w,b: {:.3f}'.format(cost))\n",
        "\n",
        "\n",
        "# test\n",
        "compute_cost_test(compute_cost)"
      ],
      "metadata": {
        "id": "MPOvLzL5H5-5"
      },
      "execution_count": null,
      "outputs": []
    },
    {
      "cell_type": "code",
      "source": [
        "#compute regularised cost\n",
        "def compute_cost_reg(X, y, w, b, lambda_ = 1):\n",
        "#write your code\n",
        "\n",
        "\n",
        "\n",
        "\n",
        "  return total_cost"
      ],
      "metadata": {
        "id": "ULkWUBkO7ffh"
      },
      "execution_count": null,
      "outputs": []
    },
    {
      "cell_type": "code",
      "source": [
        "# @title DO NOT EDIT THIS CODE\n",
        "def compute_gradient_test(target):\n",
        "    np.random.seed(1)\n",
        "    X = np.random.randn(7, 3)\n",
        "    y = np.array([1, 0, 1, 0, 1, 1, 0])\n",
        "    test_w = np.array([1, 0.5, -0.35])\n",
        "    test_b = 1.7\n",
        "    dj_db, dj_dw  = target(X, y, test_w, test_b)\n",
        "\n",
        "    assert np.isclose(dj_db, 0.28936094), f\"Wrong value for dj_db. Expected: {0.28936094} got: {dj_db}\"\n",
        "    assert dj_dw.shape == test_w.shape, f\"Wrong shape for dj_dw. Expected: {test_w.shape} got: {dj_dw.shape}\"\n",
        "    assert np.allclose(dj_dw, [-0.11999166, 0.41498775, -0.71968405]), f\"Wrong values for dj_dw. Got: {dj_dw}\"\n",
        "\n",
        "    print('\\033[92mTests passed!')"
      ],
      "metadata": {
        "id": "OhFbPakDGKQj",
        "cellView": "form"
      },
      "execution_count": null,
      "outputs": []
    },
    {
      "cell_type": "code",
      "source": [
        "X_mapped = map_feature(X_train[:, 0], X_train[:, 1])\n",
        "np.random.seed(1)\n",
        "initial_w = np.random.rand(X_mapped.shape[1]) - 0.5\n",
        "initial_b = 0.5\n",
        "lambda_ = 0.5\n",
        "cost = compute_cost_reg(X_mapped, y_train, initial_w, initial_b, lambda_)\n",
        "\n",
        "print(\"Regularised cost :\", cost)\n",
        "\n",
        "#test\n",
        "compute_cost_reg_test(compute_cost_reg)"
      ],
      "metadata": {
        "id": "jO14e7OD7syR"
      },
      "execution_count": null,
      "outputs": []
    },
    {
      "cell_type": "code",
      "source": [
        "# @title DO NOT EDIT THIS CODE\n",
        "def compute_gradient_test(target):\n",
        "    np.random.seed(1)\n",
        "    X = np.random.randn(7, 3)\n",
        "    y = np.array([1, 0, 1, 0, 1, 1, 0])\n",
        "    test_w = np.array([1, 0.5, -0.35])\n",
        "    test_b = 1.7\n",
        "    dj_db, dj_dw  = target(X, y, test_w, test_b)\n",
        "\n",
        "    assert np.isclose(dj_db, 0.28936094), f\"Wrong value for dj_db. Expected: {0.28936094} got: {dj_db}\"\n",
        "    assert dj_dw.shape == test_w.shape, f\"Wrong shape for dj_dw. Expected: {test_w.shape} got: {dj_dw.shape}\"\n",
        "    assert np.allclose(dj_dw, [-0.11999166, 0.41498775, -0.71968405]), f\"Wrong values for dj_dw. Got: {dj_dw}\"\n",
        "\n",
        "    print('\\033[92mTests passed!')"
      ],
      "metadata": {
        "id": "plQBUPM2IRei",
        "cellView": "form"
      },
      "execution_count": null,
      "outputs": []
    },
    {
      "cell_type": "code",
      "source": [
        "#compute gradient\n",
        "def compute_gradient(X, y, w, b, lambda_=None):\n",
        "#write your code\n",
        "\n",
        "\n",
        "\n",
        "  return dj_db,dj_dw"
      ],
      "metadata": {
        "id": "v27SzhYX8-ug"
      },
      "execution_count": null,
      "outputs": []
    },
    {
      "cell_type": "code",
      "source": [
        "test_w = np.array([ 0.2, -0.5])\n",
        "test_b = -24\n",
        "dj_db, dj_dw  = compute_gradient(X_train, y_train, test_w, test_b)\n",
        "\n",
        "print('dj_db at test_w:', dj_db)\n",
        "print('dj_dw at test_w:', dj_dw.tolist())\n",
        "\n",
        "# test\n",
        "compute_gradient_test(compute_gradient)"
      ],
      "metadata": {
        "id": "WLmFL2yuIPUA"
      },
      "execution_count": null,
      "outputs": []
    },
    {
      "cell_type": "code",
      "source": [
        "#compute regularised gradient\n",
        "def compute_gradient_reg(X, y, w, b, lambda_=1):\n",
        "#write your code\n",
        "\n",
        "\n",
        "\n",
        "  return dj_db,dj_dw"
      ],
      "metadata": {
        "id": "TGfUArz09TMl"
      },
      "execution_count": null,
      "outputs": []
    },
    {
      "cell_type": "code",
      "source": [
        "# @title DO NOT EDIT THIS CODE\n",
        "def compute_gradient_reg_test(target):\n",
        "    np.random.seed(1)\n",
        "    w = np.random.randn(5)\n",
        "    b = 0.2\n",
        "    X = np.random.randn(7, 5)\n",
        "    y = np.array([0, 1, 1, 0, 1, 1, 0])\n",
        "    lambda_ = 0.1\n",
        "    expected1 = (-0.1506447567869257, np.array([ 0.19530838, -0.00632206,  0.19687367,  0.15741161,  0.02791437]))\n",
        "    dj_db, dj_dw = target(X, y, w, b, lambda_)\n",
        "\n",
        "    assert np.isclose(dj_db, expected1[0]), f\"Wrong dj_db. Expected: {expected1[0]} got: {dj_db}\"\n",
        "    assert np.allclose(dj_dw, expected1[1]), f\"Wrong dj_dw. Expected: {expected1[1]} got: {dj_dw}\"\n",
        "\n",
        "\n",
        "    w = np.random.randn(7)\n",
        "    b = 0\n",
        "    X = np.random.randn(7, 7)\n",
        "    y = np.array([1, 0, 0, 0, 1, 1, 0])\n",
        "    lambda_ = 0\n",
        "    expected2 = (0.02660329857573818, np.array([ 0.23567643, -0.06921029, -0.19705212, -0.0002884 ,  0.06490588,\n",
        "        0.26948175,  0.10777992]))\n",
        "    dj_db, dj_dw = target(X, y, w, b, lambda_)\n",
        "    assert np.isclose(dj_db, expected2[0]), f\"Wrong dj_db. Expected: {expected2[0]} got: {dj_db}\"\n",
        "    assert np.allclose(dj_dw, expected2[1]), f\"Wrong dj_dw. Expected: {expected2[1]} got: {dj_dw}\"\n",
        "\n",
        "    print('\\033[92mTests passed!')"
      ],
      "metadata": {
        "id": "KNRCWIc8G2cp",
        "cellView": "form"
      },
      "execution_count": null,
      "outputs": []
    },
    {
      "cell_type": "code",
      "source": [
        "X_mapped = map_feature(X_train[:, 0], X_train[:, 1])\n",
        "np.random.seed(1)\n",
        "initial_w  = np.random.rand(X_mapped.shape[1]) - 0.5\n",
        "initial_b = 0.5\n",
        "\n",
        "lambda_ = 0.5\n",
        "dj_db, dj_dw = compute_gradient_reg(X_mapped, y_train, initial_w, initial_b, lambda_)\n",
        "\n",
        "print(f\"dj_db: {dj_db}\" )\n",
        "#test\n",
        "compute_gradient_test(compute_gradient_reg)"
      ],
      "metadata": {
        "id": "3_of_BHJ9hEc"
      },
      "execution_count": null,
      "outputs": []
    },
    {
      "cell_type": "code",
      "source": [
        "np.random.seed(1)\n",
        "initial_w = np.random.rand(X_mapped.shape[1])-0.5\n",
        "initial_b = 1.\n",
        "lambda_ = 0.01;\n",
        "iterations = 1000\n",
        "alpha = 0.01\n",
        "\n",
        "w,b, J_history,_ = gradient_descent(X_mapped, y_train, initial_w, initial_b,\n",
        "                                    compute_cost_reg, compute_gradient_reg,\n",
        "                                    alpha, iterations, lambda_)\n"
      ],
      "metadata": {
        "id": "c5y3Nb9Z_SC4"
      },
      "execution_count": null,
      "outputs": []
    },
    {
      "cell_type": "code",
      "source": [
        "#plot decision boundary\n",
        "def plot_decision_boundary(w,b,X,y):\n",
        "#write your code\n",
        "\n",
        "\n",
        "\n",
        "\n"
      ],
      "metadata": {
        "id": "cqSOrJsTAf9p"
      },
      "execution_count": null,
      "outputs": []
    },
    {
      "cell_type": "code",
      "source": [
        "plot_decision_boundary(w, b, X_mapped, y_train)"
      ],
      "metadata": {
        "id": "etir_m_AAyYC"
      },
      "execution_count": null,
      "outputs": []
    },
    {
      "cell_type": "code",
      "source": [
        "#predict your training model\n",
        "def predict(X, w, b):\n",
        "  m,n=X.shape\n",
        "  p=np.zeros(m)\n",
        "  #write your code\n",
        "\n",
        "\n",
        "\n",
        "\n",
        "\n",
        "  return p"
      ],
      "metadata": {
        "id": "MD2Dup4OA1ew"
      },
      "execution_count": null,
      "outputs": []
    },
    {
      "cell_type": "code",
      "source": [
        "p = predict(X_mapped, w, b)\n",
        "\n",
        "print('Accuracy of training model: %f'%(np.mean(p == y_train) * 100))"
      ],
      "metadata": {
        "id": "TAhIPFIsBTjk"
      },
      "execution_count": null,
      "outputs": []
    }
  ]
}